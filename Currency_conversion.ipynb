{
  "nbformat": 4,
  "nbformat_minor": 0,
  "metadata": {
    "colab": {
      "provenance": []
    },
    "kernelspec": {
      "name": "python3",
      "display_name": "Python 3"
    },
    "language_info": {
      "name": "python"
    }
  },
  "cells": [
    {
      "cell_type": "markdown",
      "source": [
        "## **Real Time Currency Conversion using Python**"
      ],
      "metadata": {
        "id": "IOC_HDLnjAYK"
      }
    },
    {
      "cell_type": "markdown",
      "source": [
        "# **Installing 'Forex' Libraray**"
      ],
      "metadata": {
        "id": "7L6F4YRXgk_0"
      }
    },
    {
      "cell_type": "code",
      "execution_count": null,
      "metadata": {
        "colab": {
          "base_uri": "https://localhost:8080/"
        },
        "id": "Z1OoML6cfMB6",
        "outputId": "a4857946-c2df-4d22-af1a-31507d821fe8"
      },
      "outputs": [
        {
          "output_type": "stream",
          "name": "stdout",
          "text": [
            "Requirement already satisfied: forex-python in /usr/local/lib/python3.10/dist-packages (1.8)\n",
            "Requirement already satisfied: requests in /usr/local/lib/python3.10/dist-packages (from forex-python) (2.31.0)\n",
            "Requirement already satisfied: simplejson in /usr/local/lib/python3.10/dist-packages (from forex-python) (3.19.2)\n",
            "Requirement already satisfied: charset-normalizer<4,>=2 in /usr/local/lib/python3.10/dist-packages (from requests->forex-python) (3.3.2)\n",
            "Requirement already satisfied: idna<4,>=2.5 in /usr/local/lib/python3.10/dist-packages (from requests->forex-python) (3.4)\n",
            "Requirement already satisfied: urllib3<3,>=1.21.1 in /usr/local/lib/python3.10/dist-packages (from requests->forex-python) (2.0.7)\n",
            "Requirement already satisfied: certifi>=2017.4.17 in /usr/local/lib/python3.10/dist-packages (from requests->forex-python) (2023.7.22)\n"
          ]
        }
      ],
      "source": [
        "pip install forex-python\n"
      ]
    },
    {
      "cell_type": "markdown",
      "source": [
        "# **Importing Library for conversion**"
      ],
      "metadata": {
        "id": "d6IWWLu4iLo3"
      }
    },
    {
      "cell_type": "code",
      "source": [
        "from forex_python.converter import CurrencyRates\n",
        "\n"
      ],
      "metadata": {
        "colab": {
          "base_uri": "https://localhost:8080/"
        },
        "id": "gNu0f7ULfYFl",
        "outputId": "02f6e05f-e532-4e76-913f-b46623fd624b"
      },
      "execution_count": null,
      "outputs": [
        {
          "output_type": "stream",
          "name": "stdout",
          "text": [
            "Enter the amount: 500\n",
            "Enter the source currency code (e.g., USD, EUR, GBP): USD\n",
            "Enter the target currency code (e.g., USD, EUR, GBP): INR\n",
            "500.0 USD is equal to 41632.61 INR\n"
          ]
        }
      ]
    },
    {
      "cell_type": "markdown",
      "source": [
        "# **Currency conversion**"
      ],
      "metadata": {
        "id": "9NuSD5WWixd-"
      }
    },
    {
      "cell_type": "code",
      "source": [
        "def convert_currency(amount, from_currency, to_currency):\n",
        "    c = CurrencyRates()\n",
        "\n",
        "    try:\n",
        "        exchange_rate = c.get_rate(from_currency, to_currency)\n",
        "        converted_amount = amount * exchange_rate\n",
        "        return converted_amount, to_currency\n",
        "    except:\n",
        "        return None, None\n",
        "\n",
        "if __name__ == \"__main__\":\n",
        "    try:\n",
        "        amount = float(input(\"Enter the amount: \"))\n",
        "    except ValueError:\n",
        "        print(\"Invalid input. Please enter a valid numeric amount.\")\n",
        "        exit()\n",
        "\n",
        "    from_currency = input(\"Enter the source currency code (e.g., USD, EUR, GBP): \").upper()\n",
        "    to_currency = input(\"Enter the target currency code (e.g., USD, EUR, GBP): \").upper()\n",
        "\n",
        "    converted_amount, result_currency = convert_currency(amount, from_currency, to_currency)\n",
        "\n",
        "    if converted_amount is not None and result_currency is not None:\n",
        "        print(f\"{amount} {from_currency} is equal to {converted_amount:.2f} {result_currency}\")\n",
        "    else:\n",
        "        print(\"Currency conversion failed. Please check the currency codes.\")"
      ],
      "metadata": {
        "id": "9x9m8JYlf-Q9"
      },
      "execution_count": null,
      "outputs": []
    }
  ]
}